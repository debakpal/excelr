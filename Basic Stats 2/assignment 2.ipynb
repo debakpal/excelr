{
 "cells": [
  {
   "cell_type": "code",
   "execution_count": 13,
   "id": "9d457c62",
   "metadata": {},
   "outputs": [],
   "source": [
    "from scipy import stats\n",
    "import numpy as nmpy"
   ]
  },
  {
   "cell_type": "code",
   "execution_count": 3,
   "id": "f6d2c2a2",
   "metadata": {},
   "outputs": [
    {
     "data": {
      "text/plain": [
       "0.26598552904870054"
      ]
     },
     "execution_count": 3,
     "metadata": {},
     "output_type": "execute_result"
    }
   ],
   "source": [
    "1 - stats.norm.cdf(50,45,8)"
   ]
  },
  {
   "cell_type": "code",
   "execution_count": 5,
   "id": "28ecbad1",
   "metadata": {},
   "outputs": [
    {
     "data": {
      "text/plain": [
       "0.9087887802741321"
      ]
     },
     "execution_count": 5,
     "metadata": {},
     "output_type": "execute_result"
    }
   ],
   "source": [
    "stats.norm.cdf(44,36,6)"
   ]
  },
  {
   "cell_type": "code",
   "execution_count": 6,
   "id": "a0616396",
   "metadata": {},
   "outputs": [
    {
     "data": {
      "text/plain": [
       "0.09121121972586788"
      ]
     },
     "execution_count": 6,
     "metadata": {},
     "output_type": "execute_result"
    }
   ],
   "source": [
    "1 - stats.norm.cdf(44,36,6)"
   ]
  },
  {
   "cell_type": "code",
   "execution_count": 7,
   "id": "dadec0c9",
   "metadata": {},
   "outputs": [
    {
     "data": {
      "text/plain": [
       "0.5"
      ]
     },
     "execution_count": 7,
     "metadata": {},
     "output_type": "execute_result"
    }
   ],
   "source": [
    "stats.norm.cdf(36,36,6)"
   ]
  },
  {
   "cell_type": "code",
   "execution_count": 9,
   "id": "cbd31a94",
   "metadata": {},
   "outputs": [
    {
     "data": {
      "text/plain": [
       "(48.48341392902199, 151.516586070978)"
      ]
     },
     "execution_count": 9,
     "metadata": {},
     "output_type": "execute_result"
    }
   ],
   "source": [
    "stats.norm.interval(0.99,100,20)"
   ]
  },
  {
   "cell_type": "code",
   "execution_count": 11,
   "id": "72bf7a18",
   "metadata": {},
   "outputs": [
    {
     "data": {
      "text/plain": [
       "(216.53458497766613, 233.46541502233387)"
      ]
     },
     "execution_count": 11,
     "metadata": {},
     "output_type": "execute_result"
    }
   ],
   "source": [
    "stats.norm.interval(0.05,225,135)"
   ]
  },
  {
   "cell_type": "code",
   "execution_count": 14,
   "id": "6ffa68cc",
   "metadata": {},
   "outputs": [
    {
     "data": {
      "text/plain": [
       "0.13774647665699669"
      ]
     },
     "execution_count": 14,
     "metadata": {},
     "output_type": "execute_result"
    }
   ],
   "source": [
    "stats.norm.cdf(0.95,110,100)"
   ]
  },
  {
   "cell_type": "code",
   "execution_count": 15,
   "id": "95a5ebb7",
   "metadata": {},
   "outputs": [
    {
     "data": {
      "text/plain": [
       "0.3118900649087494"
      ]
     },
     "execution_count": 15,
     "metadata": {},
     "output_type": "execute_result"
    }
   ],
   "source": [
    "stats.norm.cdf(0.95,50,100)"
   ]
  },
  {
   "cell_type": "code",
   "execution_count": 35,
   "id": "078a08a2",
   "metadata": {},
   "outputs": [
    {
     "data": {
      "text/plain": [
       "0.0"
      ]
     },
     "execution_count": 35,
     "metadata": {},
     "output_type": "execute_result"
    }
   ],
   "source": [
    "1 - stats.norm.cdf(55,50,40) - stats.norm.cdf(45,50,40)"
   ]
  },
  {
   "cell_type": "code",
   "execution_count": null,
   "id": "37459494",
   "metadata": {},
   "outputs": [],
   "source": []
  }
 ],
 "metadata": {
  "kernelspec": {
   "display_name": "Python 3 (ipykernel)",
   "language": "python",
   "name": "python3"
  },
  "language_info": {
   "codemirror_mode": {
    "name": "ipython",
    "version": 3
   },
   "file_extension": ".py",
   "mimetype": "text/x-python",
   "name": "python",
   "nbconvert_exporter": "python",
   "pygments_lexer": "ipython3",
   "version": "3.11.5"
  }
 },
 "nbformat": 4,
 "nbformat_minor": 5
}
